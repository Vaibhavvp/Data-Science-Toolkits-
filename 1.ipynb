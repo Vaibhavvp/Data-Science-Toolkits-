{
    "cells": [
        {
            "metadata": {},
            "cell_type": "markdown",
            "source": "<h1>Demo</h1>"
        },
        {
            "metadata": {},
            "cell_type": "code",
            "source": "\nimport types\nimport pandas as pd\nfrom botocore.client import Config\nimport ibm_boto3\n\ndef __iter__(self): return 0\n\n# @hidden_cell\n# The following code accesses a file in your IBM Cloud Object Storage. It includes your credentials.\n# You might want to remove those credentials before you share the notebook.\nclient_6612a927355541718eed5b0845bc41f2 = ibm_boto3.client(service_name='s3',\n    ibm_api_key_id='OIC9wCZgB_4xCuD62UB0bj71qV4AqUsFQAp8RnJtdXc-',\n    ibm_auth_endpoint=\"https://iam.cloud.ibm.com/oidc/token\",\n    config=Config(signature_version='oauth'),\n    endpoint_url='https://s3.eu-geo.objectstorage.service.networklayer.com')\n\nbody = client_6612a927355541718eed5b0845bc41f2.get_object(Bucket='petproject1-donotdelete-pr-vzb0khuqyv7owa',Key='Sacramentorealestatetransactions.csv')['Body']\n# add missing __iter__ method, so pandas accepts body as file-like object\nif not hasattr(body, \"__iter__\"): body.__iter__ = types.MethodType( __iter__, body )\n\ndf_data_1 = pd.read_csv(body)\ndf_data_1.head()\n",
            "execution_count": 1,
            "outputs": [
                {
                    "output_type": "execute_result",
                    "execution_count": 1,
                    "data": {
                        "text/plain": "             street        city    zip state  beds  baths  sq__ft  \\\n0      3526 HIGH ST  SACRAMENTO  95838    CA     2      1     836   \n1       51 OMAHA CT  SACRAMENTO  95823    CA     3      1    1167   \n2    2796 BRANCH ST  SACRAMENTO  95815    CA     2      1     796   \n3  2805 JANETTE WAY  SACRAMENTO  95815    CA     2      1     852   \n4   6001 MCMAHON DR  SACRAMENTO  95824    CA     2      1     797   \n\n          type                     sale_date  price   latitude   longitude  \n0  Residential  Wed May 21 00:00:00 EDT 2008  59222  38.631913 -121.434879  \n1  Residential  Wed May 21 00:00:00 EDT 2008  68212  38.478902 -121.431028  \n2  Residential  Wed May 21 00:00:00 EDT 2008  68880  38.618305 -121.443839  \n3  Residential  Wed May 21 00:00:00 EDT 2008  69307  38.616835 -121.439146  \n4  Residential  Wed May 21 00:00:00 EDT 2008  81900  38.519470 -121.435768  ",
                        "text/html": "<div>\n<style scoped>\n    .dataframe tbody tr th:only-of-type {\n        vertical-align: middle;\n    }\n\n    .dataframe tbody tr th {\n        vertical-align: top;\n    }\n\n    .dataframe thead th {\n        text-align: right;\n    }\n</style>\n<table border=\"1\" class=\"dataframe\">\n  <thead>\n    <tr style=\"text-align: right;\">\n      <th></th>\n      <th>street</th>\n      <th>city</th>\n      <th>zip</th>\n      <th>state</th>\n      <th>beds</th>\n      <th>baths</th>\n      <th>sq__ft</th>\n      <th>type</th>\n      <th>sale_date</th>\n      <th>price</th>\n      <th>latitude</th>\n      <th>longitude</th>\n    </tr>\n  </thead>\n  <tbody>\n    <tr>\n      <th>0</th>\n      <td>3526 HIGH ST</td>\n      <td>SACRAMENTO</td>\n      <td>95838</td>\n      <td>CA</td>\n      <td>2</td>\n      <td>1</td>\n      <td>836</td>\n      <td>Residential</td>\n      <td>Wed May 21 00:00:00 EDT 2008</td>\n      <td>59222</td>\n      <td>38.631913</td>\n      <td>-121.434879</td>\n    </tr>\n    <tr>\n      <th>1</th>\n      <td>51 OMAHA CT</td>\n      <td>SACRAMENTO</td>\n      <td>95823</td>\n      <td>CA</td>\n      <td>3</td>\n      <td>1</td>\n      <td>1167</td>\n      <td>Residential</td>\n      <td>Wed May 21 00:00:00 EDT 2008</td>\n      <td>68212</td>\n      <td>38.478902</td>\n      <td>-121.431028</td>\n    </tr>\n    <tr>\n      <th>2</th>\n      <td>2796 BRANCH ST</td>\n      <td>SACRAMENTO</td>\n      <td>95815</td>\n      <td>CA</td>\n      <td>2</td>\n      <td>1</td>\n      <td>796</td>\n      <td>Residential</td>\n      <td>Wed May 21 00:00:00 EDT 2008</td>\n      <td>68880</td>\n      <td>38.618305</td>\n      <td>-121.443839</td>\n    </tr>\n    <tr>\n      <th>3</th>\n      <td>2805 JANETTE WAY</td>\n      <td>SACRAMENTO</td>\n      <td>95815</td>\n      <td>CA</td>\n      <td>2</td>\n      <td>1</td>\n      <td>852</td>\n      <td>Residential</td>\n      <td>Wed May 21 00:00:00 EDT 2008</td>\n      <td>69307</td>\n      <td>38.616835</td>\n      <td>-121.439146</td>\n    </tr>\n    <tr>\n      <th>4</th>\n      <td>6001 MCMAHON DR</td>\n      <td>SACRAMENTO</td>\n      <td>95824</td>\n      <td>CA</td>\n      <td>2</td>\n      <td>1</td>\n      <td>797</td>\n      <td>Residential</td>\n      <td>Wed May 21 00:00:00 EDT 2008</td>\n      <td>81900</td>\n      <td>38.519470</td>\n      <td>-121.435768</td>\n    </tr>\n  </tbody>\n</table>\n</div>"
                    },
                    "metadata": {}
                }
            ]
        },
        {
            "metadata": {},
            "cell_type": "code",
            "source": "\n# @hidden_cell\n# The following code contains the credentials for a file in your IBM Cloud Object Storage.\n# You might want to remove those credentials before you share your notebook.\ncredentials_1 = {\n    'IAM_SERVICE_ID': 'iam-ServiceId-6f2a620e-0b57-4d81-ab20-dbf24273cab4',\n    'IBM_API_KEY_ID': 'OIC9wCZgB_4xCuD62UB0bj71qV4AqUsFQAp8RnJtdXc-',\n    'ENDPOINT': 'https://s3.eu-geo.objectstorage.service.networklayer.com',\n    'IBM_AUTH_ENDPOINT': 'https://iam.cloud.ibm.com/oidc/token',\n    'BUCKET': 'petproject1-donotdelete-pr-vzb0khuqyv7owa',\n    'FILE': 'Sacramentorealestatetransactions.csv'\n}\n",
            "execution_count": 3,
            "outputs": []
        },
        {
            "metadata": {},
            "cell_type": "code",
            "source": "",
            "execution_count": null,
            "outputs": []
        }
    ],
    "metadata": {
        "kernelspec": {
            "name": "python3",
            "display_name": "Python 3.6",
            "language": "python"
        },
        "language_info": {
            "name": "python",
            "version": "3.6.9",
            "mimetype": "text/x-python",
            "codemirror_mode": {
                "name": "ipython",
                "version": 3
            },
            "pygments_lexer": "ipython3",
            "nbconvert_exporter": "python",
            "file_extension": ".py"
        }
    },
    "nbformat": 4,
    "nbformat_minor": 1
}